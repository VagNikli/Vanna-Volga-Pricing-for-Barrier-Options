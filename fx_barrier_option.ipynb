{
 "cells": [
  {
   "cell_type": "code",
   "execution_count": 83,
   "metadata": {},
   "outputs": [],
   "source": [
    "import numpy as np\n",
    "from scipy.stats import norm\n",
    "import matplotlib.pyplot as plt"
   ]
  },
  {
   "cell_type": "markdown",
   "metadata": {},
   "source": [
    "#### Implement the **FXBarrierOption** Class"
   ]
  },
  {
   "cell_type": "code",
   "execution_count": 73,
   "metadata": {},
   "outputs": [],
   "source": [
    "class FXBarrierOption:\n",
    "    \"\"\"A class to model Foreign Exchange (FX) Barrier Options using the Black-Scholes framework.\n",
    "       Supports vanilla options and barrier options (up-in, up-out, down-in, down-out)\"\"\"\n",
    "\n",
    "    def __init__(self, spot_price, strike_price, time_to_maturity, volatility,\n",
    "                 domestic_rate, foreign_rate, barrier_level=None, barrier_type=None):\n",
    "        \"\"\"\n",
    "        Initializes the FXBarrierOption object with key financial parameters.\n",
    "\n",
    "        :param spot_price: Current price of the underlying asset.\n",
    "        :param strike_price: Option's strike price.\n",
    "        :param time_to_maturity: Time to maturity (in years).\n",
    "        :param volatility: Annualized volatility of the underlying asset.\n",
    "        :param domestic_rate: Domestic risk-free interest rate (annualized).\n",
    "        :param foreign_rate: Foreign risk-free interest rate (annualized).\n",
    "        :param barrier_level: The price level of the barrier (if applicable).\n",
    "        :param barrier_type: Type of barrier ('up-in', 'up-out', 'down-in', 'down-out').\n",
    "        \"\"\"\n",
    "        self.spot_price = spot_price\n",
    "        self.strike_price = strike_price\n",
    "        self.time_to_maturity = time_to_maturity\n",
    "        self.volatility = volatility\n",
    "        self.domestic_rate = domestic_rate\n",
    "        self.foreign_rate = foreign_rate\n",
    "        self.barrier_level = barrier_level\n",
    "        self.barrier_type = barrier_type\n",
    "\n",
    "    def compute_d1(self, spot_price=None):\n",
    "        \"\"\"\n",
    "        Computes the Black-Scholes d1 term used in option pricing.\n",
    "\n",
    "        :param spot_price: (Optional) Current spot price of the underlying asset.\n",
    "        :return: Computed d1 value.\n",
    "        \"\"\"\n",
    "        if spot_price is None:\n",
    "            spot_price = self.spot_price\n",
    "\n",
    "        d1 = (np.log(spot_price / self.strike_price) +\n",
    "              (self.domestic_rate - self.foreign_rate + 0.5 * self.volatility ** 2) * self.time_to_maturity) / \\\n",
    "             (self.volatility * np.sqrt(self.time_to_maturity))\n",
    "        return d1\n",
    "\n",
    "    def compute_d2(self, d1=None):\n",
    "        \"\"\" Computes the Black-Scholes d2 term\n",
    "        :param d1: (Optional) Computed d1 value.\n",
    "        :return: Computed d2 value. \"\"\"\n",
    "        if d1 is None:\n",
    "            d1 = self.compute_d1()\n",
    "\n",
    "        return d1 - self.volatility * np.sqrt(self.time_to_maturity)\n",
    "\n",
    "    def calculate_vanilla_price(self, option_type='call'):\n",
    "        \"\"\" Computes the price of a vanilla European option.\n",
    "        :param option_type: 'call' for a call option, 'put' for a put option.\n",
    "        :return: Vanilla option price\"\"\"\n",
    "        d1 = self.compute_d1()\n",
    "        d2 = self.compute_d2(d1)\n",
    "\n",
    "        if option_type == 'call':\n",
    "            price = (self.spot_price * np.exp(-self.foreign_rate * self.time_to_maturity) * norm.cdf(d1)) - \\\n",
    "                    (self.strike_price * np.exp(-self.domestic_rate * self.time_to_maturity) * norm.cdf(d2))\n",
    "        elif option_type == 'put':\n",
    "            price = (self.strike_price * np.exp(-self.domestic_rate * self.time_to_maturity) * norm.cdf(-d2)) - \\\n",
    "                    (self.spot_price * np.exp(-self.foreign_rate * self.time_to_maturity) * norm.cdf(-d1))\n",
    "        else:\n",
    "            raise ValueError(\"Invalid option type. Choose 'call' or 'put'.\")\n",
    "\n",
    "        return price\n"
   ]
  },
  {
   "cell_type": "markdown",
   "metadata": {},
   "source": [
    "### Class Test: Price Vanilla option"
   ]
  },
  {
   "cell_type": "code",
   "execution_count": 80,
   "metadata": {},
   "outputs": [
    {
     "name": "stdout",
     "output_type": "stream",
     "text": [
      "Vanilla Call Price: 17.8633\n",
      "Vanilla Put Price: 3.9339\n"
     ]
    }
   ],
   "source": [
    "# Create an FXBarrierOption instance\n",
    "option = FXBarrierOption(spot_price=100,\n",
    "                         strike_price=90,\n",
    "                         time_to_maturity=3,\n",
    "                         volatility=0.16,\n",
    "                         domestic_rate=0.05,\n",
    "                         foreign_rate=0.03)\n",
    "\n",
    "# Compute vanilla option prices\n",
    "call_price = option.calculate_vanilla_price(option_type='call')\n",
    "put_price = option.calculate_vanilla_price(option_type='put')\n",
    "\n",
    "# Print results\n",
    "print(f\"Vanilla Call Price: {call_price:.4f}\")\n",
    "print(f\"Vanilla Put Price: {put_price:.4f}\")\n"
   ]
  },
  {
   "cell_type": "markdown",
   "metadata": {},
   "source": [
    "### **Explanation:**\n",
    "- The call option has a higher value because **the spot price ($100$) is greater than the strike price ($90$).**\n",
    "- The put option is cheaper since it is **out-of-the-money (OTM)**.\n",
    "- A **longer time to maturity** (3 years) generally **increases option prices**.\n",
    "- **Higher domestic interest rates favor call options**.\n",
    "\n",
    "---"
   ]
  }
 ],
 "metadata": {
  "kernelspec": {
   "display_name": "Python 3",
   "language": "python",
   "name": "python3"
  },
  "language_info": {
   "codemirror_mode": {
    "name": "ipython",
    "version": 3
   },
   "file_extension": ".py",
   "mimetype": "text/x-python",
   "name": "python",
   "nbconvert_exporter": "python",
   "pygments_lexer": "ipython3",
   "version": "3.8.8rc1"
  }
 },
 "nbformat": 4,
 "nbformat_minor": 2
}
